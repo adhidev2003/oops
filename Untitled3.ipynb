{
  "nbformat": 4,
  "nbformat_minor": 0,
  "metadata": {
    "colab": {
      "provenance": [],
      "authorship_tag": "ABX9TyMfqPYwCK2EauAf9g4aPeQh",
      "include_colab_link": true
    },
    "kernelspec": {
      "name": "python3",
      "display_name": "Python 3"
    },
    "language_info": {
      "name": "python"
    }
  },
  "cells": [
    {
      "cell_type": "markdown",
      "metadata": {
        "id": "view-in-github",
        "colab_type": "text"
      },
      "source": [
        "<a href=\"https://colab.research.google.com/github/adhidev2003/oops/blob/main/Untitled3.ipynb\" target=\"_parent\"><img src=\"https://colab.research.google.com/assets/colab-badge.svg\" alt=\"Open In Colab\"/></a>"
      ]
    },
    {
      "cell_type": "code",
      "execution_count": 1,
      "metadata": {
        "colab": {
          "base_uri": "https://localhost:8080/"
        },
        "id": "oshKlVV8dGnr",
        "outputId": "e21c0395-1034-4b61-a34b-f732309cc9c4"
      },
      "outputs": [
        {
          "output_type": "stream",
          "name": "stdout",
          "text": [
            "📊 Classification Report:\n",
            "\n",
            "              precision    recall  f1-score   support\n",
            "\n",
            "           0       1.00      1.00      1.00        19\n",
            "           1       1.00      1.00      1.00        13\n",
            "           2       1.00      1.00      1.00        13\n",
            "\n",
            "    accuracy                           1.00        45\n",
            "   macro avg       1.00      1.00      1.00        45\n",
            "weighted avg       1.00      1.00      1.00        45\n",
            "\n"
          ]
        }
      ],
      "source": [
        "from sklearn.datasets import load_iris\n",
        "from sklearn.model_selection import train_test_split\n",
        "from sklearn.preprocessing import StandardScaler\n",
        "from sklearn.tree import DecisionTreeClassifier\n",
        "from sklearn.metrics import classification_report\n",
        "\n",
        "# Step 2: Data Loader Class\n",
        "class DataLoader:\n",
        "    \"\"\"Loads and splits the Iris dataset.\"\"\"\n",
        "    def __init__(self):\n",
        "        self.X, self.y = load_iris(return_X_y=True)\n",
        "\n",
        "    def split(self, test_size=0.3, random_state=42):\n",
        "        return train_test_split(self.X, self.y, test_size=test_size,\n",
        "                                random_state=random_state)\n",
        "\n",
        "# Step 3: Preprocessor Class\n",
        "class Preprocessor:\n",
        "    \"\"\"Scales features using StandardScaler.\"\"\"\n",
        "    def __init__(self):\n",
        "        self.scaler = StandardScaler()\n",
        "\n",
        "    def fit_transform(self, X_train):\n",
        "        return self.scaler.fit_transform(X_train)\n",
        "\n",
        "    def transform(self, X_test):\n",
        "        return self.scaler.transform(X_test)\n",
        "\n",
        "# Step 4: ML Model Class\n",
        "class MLModel:\n",
        "    \"\"\"Trains and uses a Decision Tree Classifier.\"\"\"\n",
        "    def __init__(self):\n",
        "        self.model = DecisionTreeClassifier()\n",
        "\n",
        "    def train(self, X_train, y_train):\n",
        "        self.model.fit(X_train, y_train)\n",
        "\n",
        "    def predict(self, X_test):\n",
        "        return self.model.predict(X_test)\n",
        "\n",
        "# Step 5: Evaluator Class\n",
        "class Evaluator:\n",
        "    \"\"\"Prints classification report based on predictions.\"\"\"\n",
        "    def __init__(self, y_true, y_pred):\n",
        "        self.y_true = y_true\n",
        "        self.y_pred = y_pred\n",
        "\n",
        "    def report(self):\n",
        "        print(\"📊 Classification Report:\\n\")\n",
        "        print(classification_report(self.y_true, self.y_pred))\n",
        "\n",
        "# Step 6: ML Application Controller\n",
        "class MLApplication:\n",
        "    \"\"\"Controls the ML pipeline.\"\"\"\n",
        "    def __init__(self):\n",
        "        self.loader = DataLoader()\n",
        "        self.preprocessor = Preprocessor()\n",
        "        self.model = MLModel()\n",
        "\n",
        "    def run(self):\n",
        "        # Load and split data\n",
        "        X_train, X_test, y_train, y_test = self.loader.split()\n",
        "\n",
        "        # Preprocess data\n",
        "        X_train_scaled = self.preprocessor.fit_transform(X_train)\n",
        "        X_test_scaled = self.preprocessor.transform(X_test)\n",
        "\n",
        "        # Train model\n",
        "        self.model.train(X_train_scaled, y_train)\n",
        "        y_pred = self.model.predict(X_test_scaled)\n",
        "\n",
        "        # Evaluate\n",
        "        evaluator = Evaluator(y_test, y_pred)\n",
        "        evaluator.report()\n",
        "\n",
        "# Step 7: Execute the Pipeline\n",
        "if __name__ == \"__main__\":\n",
        "    app = MLApplication()\n",
        "    app.run()\n"
      ]
    }
  ]
}